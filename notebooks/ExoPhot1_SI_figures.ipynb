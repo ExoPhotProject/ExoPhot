{
 "cells": [
  {
   "cell_type": "markdown",
   "metadata": {},
   "source": [
    "# Suplementary Information figures for publication ExoPhot I \n",
    "Generation of figures for the first paper of the series dedicated to ExoPhot to be added to the suplementary information document."
   ]
  },
  {
   "cell_type": "markdown",
   "metadata": {},
   "source": [
    "### Load libraries \n",
    "Load libraries and functions"
   ]
  },
  {
   "cell_type": "code",
   "execution_count": 2,
   "metadata": {},
   "outputs": [],
   "source": [
    "import matplotlib.pyplot as plt\n",
    "import numpy as np\n",
    "import scipy.constants as const\n",
    "import pandas as pd\n",
    "import itertools\n",
    "from os import walk\n",
    "from pathlib import Path"
   ]
  },
  {
   "cell_type": "markdown",
   "metadata": {},
   "source": [
    "### Define available cases to plot"
   ]
  },
  {
   "cell_type": "code",
   "execution_count": 3,
   "metadata": {},
   "outputs": [],
   "source": [
    "pigm = ['ChlA', 'ChlB', 'BChlA', 'BChlB', 'Phot0-Zn']\n",
    "hz = ['hzi','hzm','hzo']\n",
    "star_type = ['a5v','g2v','m8v']\n",
    "atmos_type = ['os1','os2','os3','os4']"
   ]
  },
  {
   "cell_type": "markdown",
   "metadata": {},
   "source": [
    "### Choose colorblind color scheme"
   ]
  },
  {
   "cell_type": "code",
   "execution_count": 4,
   "metadata": {},
   "outputs": [],
   "source": [
    "# https://gist.github.com/thriveth/8560036\n",
    "CB_color_cycle = ['#377eb8', '#ff7f00', '#4daf4a',\n",
    "                  '#f781bf', '#a65628', '#984ea3',\n",
    "                  '#999999', '#e41a1c', '#dede00']\n"
   ]
  },
  {
   "cell_type": "markdown",
   "metadata": {},
   "source": [
    "### Retrieve star parameteres\n",
    "Load auxiliary file containing solar radii (Rs) and habitable zone (hz) boundaries (inner, mid, outer) for different solar spectral types."
   ]
  },
  {
   "cell_type": "code",
   "execution_count": 5,
   "metadata": {},
   "outputs": [
    {
     "data": {
      "text/html": [
       "<div>\n",
       "<style scoped>\n",
       "    .dataframe tbody tr th:only-of-type {\n",
       "        vertical-align: middle;\n",
       "    }\n",
       "\n",
       "    .dataframe tbody tr th {\n",
       "        vertical-align: top;\n",
       "    }\n",
       "\n",
       "    .dataframe thead th {\n",
       "        text-align: right;\n",
       "    }\n",
       "</style>\n",
       "<table border=\"1\" class=\"dataframe\">\n",
       "  <thead>\n",
       "    <tr style=\"text-align: right;\">\n",
       "      <th></th>\n",
       "      <th>ST</th>\n",
       "      <th>Teff</th>\n",
       "      <th>Rs</th>\n",
       "      <th>Ls</th>\n",
       "      <th>hzi</th>\n",
       "      <th>hzm</th>\n",
       "      <th>hzo</th>\n",
       "      <th>S_hzi</th>\n",
       "      <th>S_hzm</th>\n",
       "      <th>S_hzo</th>\n",
       "    </tr>\n",
       "  </thead>\n",
       "  <tbody>\n",
       "    <tr>\n",
       "      <th>0</th>\n",
       "      <td>a5v</td>\n",
       "      <td>8250.0</td>\n",
       "      <td>1.700</td>\n",
       "      <td>12.083850</td>\n",
       "      <td>2.503394</td>\n",
       "      <td>3.464906</td>\n",
       "      <td>3.911554</td>\n",
       "      <td>2624.57</td>\n",
       "      <td>1370.042</td>\n",
       "      <td>1075.024</td>\n",
       "    </tr>\n",
       "    <tr>\n",
       "      <th>1</th>\n",
       "      <td>f5v</td>\n",
       "      <td>6500.0</td>\n",
       "      <td>1.300</td>\n",
       "      <td>2.722901</td>\n",
       "      <td>1.188345</td>\n",
       "      <td>1.644768</td>\n",
       "      <td>1.856789</td>\n",
       "      <td>2624.57</td>\n",
       "      <td>1370.042</td>\n",
       "      <td>1075.024</td>\n",
       "    </tr>\n",
       "    <tr>\n",
       "      <th>2</th>\n",
       "      <td>g2v</td>\n",
       "      <td>5750.0</td>\n",
       "      <td>1.000</td>\n",
       "      <td>0.986650</td>\n",
       "      <td>0.715333</td>\n",
       "      <td>0.990080</td>\n",
       "      <td>1.117707</td>\n",
       "      <td>2624.57</td>\n",
       "      <td>1370.042</td>\n",
       "      <td>1075.024</td>\n",
       "    </tr>\n",
       "    <tr>\n",
       "      <th>3</th>\n",
       "      <td>k5v</td>\n",
       "      <td>4250.0</td>\n",
       "      <td>0.720</td>\n",
       "      <td>0.152655</td>\n",
       "      <td>0.281373</td>\n",
       "      <td>0.389444</td>\n",
       "      <td>0.439646</td>\n",
       "      <td>2624.57</td>\n",
       "      <td>1370.042</td>\n",
       "      <td>1075.024</td>\n",
       "    </tr>\n",
       "    <tr>\n",
       "      <th>4</th>\n",
       "      <td>m8v</td>\n",
       "      <td>2500.0</td>\n",
       "      <td>0.121</td>\n",
       "      <td>0.000516</td>\n",
       "      <td>0.016362</td>\n",
       "      <td>0.022646</td>\n",
       "      <td>0.025566</td>\n",
       "      <td>2624.57</td>\n",
       "      <td>1370.042</td>\n",
       "      <td>1075.024</td>\n",
       "    </tr>\n",
       "  </tbody>\n",
       "</table>\n",
       "</div>"
      ],
      "text/plain": [
       "    ST    Teff     Rs         Ls       hzi       hzm       hzo    S_hzi  \\\n",
       "0  a5v  8250.0  1.700  12.083850  2.503394  3.464906  3.911554  2624.57   \n",
       "1  f5v  6500.0  1.300   2.722901  1.188345  1.644768  1.856789  2624.57   \n",
       "2  g2v  5750.0  1.000   0.986650  0.715333  0.990080  1.117707  2624.57   \n",
       "3  k5v  4250.0  0.720   0.152655  0.281373  0.389444  0.439646  2624.57   \n",
       "4  m8v  2500.0  0.121   0.000516  0.016362  0.022646  0.025566  2624.57   \n",
       "\n",
       "      S_hzm     S_hzo  \n",
       "0  1370.042  1075.024  \n",
       "1  1370.042  1075.024  \n",
       "2  1370.042  1075.024  \n",
       "3  1370.042  1075.024  \n",
       "4  1370.042  1075.024  "
      ]
     },
     "execution_count": 5,
     "metadata": {},
     "output_type": "execute_result"
    }
   ],
   "source": [
    "# load auxiliary file containing solar radii (Rs) and habitable zone (hz) boundaries (inner, mid, outer) for different solar spectral types\n",
    "df_exo = pd.read_csv('../input/exosys_params.csv', comment = '#')\n",
    "df_exo\n"
   ]
  },
  {
   "cell_type": "markdown",
   "metadata": {},
   "source": [
    "### Define plot functions"
   ]
  },
  {
   "cell_type": "code",
   "execution_count": 64,
   "metadata": {},
   "outputs": [],
   "source": [
    "def plot_pigment_absorption(wl, pigm_absorp, pigm_name, color, ax):\n",
    "    \"\"\"Helper function to plot absorption cross section\n",
    "    \"\"\"\n",
    " \n",
    "    \n",
    "    ax.plot(wl, pigm_absorp, label=pigm_name, color=color)\n",
    "    \n",
    "    ax.set_ylim(0,None)\n",
    "    #ax.autoscale(enable=True, axis='x', tight=True)\n",
    "    ax.ticklabel_format(axis='y', style='sci', scilimits=(-1, 1), useOffset=False)\n",
    "    ax.set_ylim(0,0.00000000000000142)\n",
    "    ax.set_ylabel('Absorption cross section (cm$^{2}$)')\n",
    "    ax.set_xlabel('Wavelength ($\\AA$)')\n",
    "    \n",
    "    ax.legend(loc=\"upper right\")\n",
    "\n",
    "\n"
   ]
  },
  {
   "cell_type": "code",
   "execution_count": 42,
   "metadata": {},
   "outputs": [],
   "source": [
    "from scipy.ndimage.filters import uniform_filter1d\n",
    "\n",
    "\n",
    "def plot_star_SED(wl, flux, star_name, color, ax):\n",
    "    \"\"\"Helper function to plot star SED\n",
    "    \"\"\"\n",
    "    \n",
    "    sampling = 25\n",
    "    \n",
    "    ax.plot(wl, uniform_filter1d(flux, size = sampling, axis = 0), label=star_name, color=color)\n",
    "    \n",
    "    ax.set_ylim(10E-12,10E9)\n",
    "    ax.set_xlim(2000,7000)\n",
    "    ax.set_yscale('log')\n",
    "    #ax.autoscale(enable=True, axis='x', tight=True)\n",
    "    #ax.ticklabel_format(axis='y', style='sci', scilimits=(-1, 1), useOffset=False)\n",
    "    #ax.set_ylim(0,370000)\n",
    "    ax.set_ylabel('Stellar flux (erg cm$^{2} s^{-1} \\AA^{-1}$)')\n",
    "    ax.set_xlabel('Wavelength ($\\AA$)')\n",
    "    \n",
    "    ax.legend(loc=\"lower right\")\n",
    "\n",
    "\n"
   ]
  },
  {
   "cell_type": "code",
   "execution_count": 8,
   "metadata": {},
   "outputs": [],
   "source": [
    "def plot_atm_transmittance(wl, transmitance, ax):\n",
    "    \"\"\"Helper function to plot atmospheric transmitance\n",
    "    \"\"\"\n",
    "    \n",
    "    ax.plot(wl, transmitance)\n",
    "    \n",
    "    ax.set_ylim(0,None)\n",
    "    ax.autoscale(enable=True, axis='x', tight=True)\n",
    "    ax.ticklabel_format(axis='y', style='sci', scilimits=(-1, 1), useOffset=False)\n",
    "    \n",
    "    ax.set_title(pigm[:-4])\n",
    "    ax.set_ylabel('Atmospheric transmitance')\n",
    "    ax.set_xlabel('Wavelength ($\\AA$)')    \n"
   ]
  },
  {
   "cell_type": "markdown",
   "metadata": {},
   "source": [
    "## Pigments absorption cross section \n",
    "The molar extinction coeficient ($\\epsilon_{\\rm abs}$) of each pigment is retrieved from the input folder. This parameter is transformed to the pigment's absorption cross section  $\\sigma{\\rm abs}(\\lambda)$ through:\n",
    "\n",
    "\\begin{equation}\n",
    "\\sigma_{\\rm abs} (\\lambda) = \\frac{1000\\log10}{N_A}\\epsilon_{\\rm abs}(\\lambda),\n",
    "\\label{eq:sigma_epsilon}\n",
    "\\end{equation}\n",
    "\n",
    "where $N_A$ is the Avogadro number, and $\\sigma_{\\rm abs}(\\lambda)$ and $\\epsilon_{\\rm abs}(\\lambda)$ are in units of cm$^2$ and M$^{-1}$ cm$^{-1}$, respectively. \n",
    " "
   ]
  },
  {
   "cell_type": "code",
   "execution_count": 66,
   "metadata": {},
   "outputs": [
    {
     "data": {
      "image/png": "[encoded data removed]",
      "text/plain": [
       "<Figure size 576x360 with 1 Axes>"
      ]
     },
     "metadata": {
      "needs_background": "light"
     },
     "output_type": "display_data"
    }
   ],
   "source": [
    "fig, ax = plt.subplots(1,1,figsize=(8,5))\n",
    "\n",
    "#Set the input folder of the pigments molar extinction files\n",
    "pigm_file = \"../input/pigments/\" \n",
    "\n",
    "# pigment label for the plot\n",
    "pigm_label = ['Chl $\\it{a}$', 'Chl $\\it{b}$', 'BChl $\\it{a}$', 'BChl $\\it{b}$', 'Phot0']\n",
    "\n",
    "iterator = 0\n",
    "#Iterate in pigment's names\n",
    "for pigm_name in pigm:\n",
    "    #2D array with pigment's molar extinction coefficient spectrum [nm; M-1 cm-1]\n",
    "    pigm_absorp_array = np.loadtxt(pigm_file+pigm_name+'.txt',usecols=(0,1)) # [nm, M-1 cm-1]\n",
    "    pigm_absorp_array = np.transpose(pigm_absorp_array)\n",
    "    \n",
    "    # from molar extinction coefficient (epsilon) to absorption cross section (cm2). See Eq. 2 in Marcos-Arenal et al. (2022).\n",
    "    pigm_absorp_xsect=1000*np.log(10)*pigm_absorp_array[1]/const.N_A\n",
    "    # from nm to Angstrom\n",
    "    pigm_absorp_array[0] = 10*pigm_absorp_array[0]\n",
    "\n",
    "\n",
    "    plot_pigment_absorption(pigm_absorp_array[0], pigm_absorp_xsect, pigm_label[iterator], CB_color_cycle[iterator+2], ax)\n",
    "    iterator = iterator +1\n",
    "\n",
    "plt.tight_layout()\n",
    "plt.savefig('../output/figures/pigment_absorption_plot.pdf', dpi = 150)\n",
    "plt.show()  \n"
   ]
  },
  {
   "cell_type": "markdown",
   "metadata": {},
   "source": [
    "## Stellar flux\n",
    "For the stars, we considered a solar type (G2 V, $T_{\\rm eff}$ = 5750 K) and two extreme cases (A5 V, $T_{\\rm eff}$ = 8250 K and M8 V, $T_{\\rm eff}$ = 2500 K).\n"
   ]
  },
  {
   "cell_type": "code",
   "execution_count": 43,
   "metadata": {},
   "outputs": [
    {
     "data": {
      "image/png": "[encoded data removed]",
      "text/plain": [
       "<Figure size 576x360 with 1 Axes>"
      ]
     },
     "metadata": {
      "needs_background": "light"
     },
     "output_type": "display_data"
    }
   ],
   "source": [
    "fig, ax = plt.subplots(1,1,figsize=(8,5))\n",
    "\n",
    "#Set the input folder of the SED files\n",
    "star_folder = \"../input/stellar/\" \n",
    "\n",
    "\n",
    "\n",
    "iterator = 0\n",
    "#Iterate in atmosphere's names\n",
    "for star_name in star_type:\n",
    "    iterator = iterator +1\n",
    "    \n",
    "    # 2D array with stellar spectral flux density spectrum [Angstrom; erg cm-2 s-1 A-1]\n",
    "    sed_array = np.loadtxt(star_folder+'SED_'+star_name+'.txt',usecols=(0,1)) # [nm, M-1 cm-1]\n",
    "    sed_array = np.transpose(sed_array)\n",
    "    \n",
    "    # get solar radius and exoplanet orbit (in km), and Stellar Irradiance\n",
    "    #Rs = 696340*df_exo.loc[np.where(df_exo.ST==star_name)[0][0], 'Rs']\n",
    "    #sma = 1.495978707e+8*df_exo.loc[np.where(df_exo.ST==star_name)[0][0], 'hzm']\n",
    " \n",
    "    # from ergs to Joules\n",
    "    #sed_array[1] = sed_array[1]*1e-7\n",
    "    # flux conversion to J/cm2/s/A and multiplication by solid angle subtended by star from exoplanet, (Rs/sma)^2\n",
    "    # https://www.stsci.edu/hst/instrumentation/reference-data-for-calibration-and-tools/astronomical-catalogs/castelli-and-kurucz-atlas   \n",
    "    #sed_array[1] = sed_array[1]*(Rs/sma)**2\n",
    "\n",
    "\n",
    "    plot_star_SED(sed_array[0],sed_array[1], star_name, CB_color_cycle[iterator], ax)\n",
    "\n",
    "plt.tight_layout()\n",
    "plt.savefig('../output/figures/star_SED_plot.pdf', dpi = 150)\n",
    "plt.show()  \n"
   ]
  },
  {
   "cell_type": "markdown",
   "metadata": {},
   "source": [
    "### Atmosphere transmittance\n",
    "The atmospheric transmittance spectrum has been synthesized with PUMAS (Villanueva et al. 2018, Smith et al. 2009, Edwards 1992) via the NASA-GSFC Planetary Spectrum Generator (PSG, Villanueva et al. 2018).\n",
    "We considered 1 Earth-radius, 1 Earth-mass exoplanets orbiting in the inner, middle and outer part of the habitable zone (HZi, HZm and HZo) around their stars (and corresponding effective temperatures, $T_{\\rm eff}$).\n",
    "We also considered Earth-like (os1), highly oxidizing (os2), weakly oxydizing (os3), and reducing/early-Earth-like (os4) scenarios (R Hu, S Seager, W Bains, Photochemistry in terrestrial exoplanet atmospheres. I. Photo- 467."
   ]
  },
  {
   "cell_type": "code",
   "execution_count": null,
   "metadata": {},
   "outputs": [],
   "source": [
    "\n",
    "fig, ax = plt.subplots(len(atmos_type),len(hz),figsize=(12,12))\n",
    "\n",
    "#Set the input folder of the atmosp files\n",
    "atmos_folder = \"../input/atmosphere/\" \n",
    "\n",
    "##### iterate through atmosphere and pigment file names:\n",
    "r1 = range(len(hzm))\n",
    "r2 = range(len(star_type))\n",
    "r3 = range(len(atmos_type))\n",
    "\n",
    "\n",
    "for ii, jj, kk in itertools.product(r1,r2,r3): # this is a nested loop\n",
    "    # select atmosphere file names\n",
    "    atm_file_name = atmos_folder + 'atm_' + star_type[jj] + '_' + hz[ii] + '_' + atmos_type[kk] + '.txt'\n",
    "    \n",
    "    # 2D array with atmospheric transmittance\n",
    "    transmitance_array = np.loadtxt(atm_file_name,usecols=(0,1))    \n",
    "    transmitance_array = np.transpose(transmitance_array)\n",
    "               \n",
    "    # plot transmitance_array\n",
    "    wl, F, T, sigma, Gamma_l = np.hsplit(transmitance_array, transmitance_array.shape[1])\n",
    "    \n",
    "    plot_atm_transmittance(transmitance_array[0],transmitance_array[1], atmos_name, CB_color_cycle[iterator], ax)\n",
    "  \n",
    "    \n",
    "    if jj != 2:\n",
    "        plot_abs_rate(wl, Gamma_l, ax[ii,jj],star_type[jj],hz[1],atmos[ii],pigm[kk], cols_list[kk])\n",
    "        ax[ii,jj].set_ylim(0,4.5)\n",
    "    else:\n",
    "        plot_abs_rate_M(wl, Gamma_l, ax[ii,jj],star_type[jj],hz[1],atmos[ii],pigm[kk], cols_list[kk])\n",
    "\n",
    "    ax[ii,0].set_ylabel(r'$\\Gamma_\\lambda$ ($\\times 10^{-2}$ $\\mathrm{\\AA}^{-1}$ s$^{-1}$)', fontsize = 11)\n",
    "    ax[-1,jj].set_xlabel(r'$\\lambda$ ($\\mathrm{\\AA}$)', fontsize = 11)\n",
    "    \n",
    "ax[0,0].legend(loc = 'upper right', fontsize = 9, handletextpad = 0.2, handlelength = 1)\n",
    "\n",
    "\n",
    "\n",
    "\n",
    "\n",
    "\n",
    "\n",
    "\n",
    "\n",
    "\n",
    "iterator = 0\n",
    "#Iterate in star's names\n",
    "for atmos_name in atmos_type:\n",
    "    iterator = iterator +1\n",
    "    \n",
    "    \n",
    "\n",
    "\n",
    "    plot_atm_transmittance(transmitance_array[0],transmitance_array[1], atmos_name, CB_color_cycle[iterator], ax)\n",
    "\n",
    "plt.tight_layout()\n",
    "plt.savefig('../output/figures/atm_transmittance_plot.pdf', dpi = 150)\n",
    "plt.show()  "
   ]
  }
 ],
 "metadata": {
  "kernelspec": {
   "display_name": "Python 3 (ipykernel)",
   "language": "python",
   "name": "python3"
  },
  "language_info": {
   "codemirror_mode": {
    "name": "ipython",
    "version": 3
   },
   "file_extension": ".py",
   "mimetype": "text/x-python",
   "name": "python",
   "nbconvert_exporter": "python",
   "pygments_lexer": "ipython3",
   "version": "3.8.12"
  }
 },
 "nbformat": 4,
 "nbformat_minor": 4
}
