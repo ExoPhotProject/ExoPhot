{
 "cells": [
  {
   "cell_type": "markdown",
   "metadata": {},
   "source": [
    "# Suplementary Information figures for publication ExoPhot II \n",
    "Generation of figures for the second paper of the series dedicated to ExoPhot to be added to the suplementary information document."
   ]
  },
  {
   "cell_type": "markdown",
   "metadata": {},
   "source": [
    "### Load libraries \n",
    "Load libraries and functions"
   ]
  },
  {
   "cell_type": "code",
   "execution_count": 1,
   "metadata": {},
   "outputs": [],
   "source": [
    "import matplotlib.pyplot as plt\n",
    "import numpy as np\n",
    "import scipy.constants as const\n",
    "import pandas as pd\n",
    "import itertools\n",
    "from os import walk\n",
    "from pathlib import Path"
   ]
  },
  {
   "cell_type": "markdown",
   "metadata": {},
   "source": [
    "### Define available cases to plot"
   ]
  },
  {
   "cell_type": "code",
   "execution_count": 2,
   "metadata": {},
   "outputs": [],
   "source": [
    "theoretical_pigm = ['Chla', 'BChla', 'Phot0-Zn', 'Phot0-Mg']\n"
   ]
  },
  {
   "cell_type": "markdown",
   "metadata": {},
   "source": [
    "### Choose colorblind color scheme"
   ]
  },
  {
   "cell_type": "code",
   "execution_count": 3,
   "metadata": {},
   "outputs": [],
   "source": [
    "# https://gist.github.com/thriveth/8560036\n",
    "CB_color_cycle = ['#4daf4a', '#e41a1c', '#984ea3','#dede00', '#999999','#377eb8', '#ff7f00']\n"
   ]
  },
  {
   "cell_type": "markdown",
   "metadata": {},
   "source": [
    "### Define plot functions"
   ]
  },
  {
   "cell_type": "code",
   "execution_count": 4,
   "metadata": {},
   "outputs": [],
   "source": [
    "def plot_pigment_extinction(wl, pigm_extinct, pigm_label, color, ax):\n",
    "    \"\"\"Helper function to plot molar extinction coeficient of theoretical pigments\n",
    "    \"\"\"\n",
    " \n",
    "    \n",
    "    ax.plot(wl, pigm_extinct, label=pigm_label, color=color)\n",
    "    \n",
    "    #ax.set_ylim(0,None)\n",
    "    ax.set_xlim(250,700)\n",
    "\n",
    "    #ax.autoscale(enable=True, axis='x', tight=True)\n",
    "    ax.set_ylim(0,400000)\n",
    "    ax.set_ylabel('$\\epsilon_{abs}$ (M$^{-1}$ cm$^{-1}$)',fontsize=15)\n",
    "    ax.set_xlabel('Wavelength ($nm$)',fontsize=15)\n",
    "    ax.ticklabel_format(axis='y', style='sci', scilimits=(-1, 1), useMathText = True, useOffset=False)    \n",
    "    \n",
    "    # We change the fontsize of minor ticks label \n",
    "    ax.tick_params(axis='both', which='major', labelsize=12)\n",
    "    ax.tick_params(axis='both', which='minor', labelsize=10)\n",
    "    \n",
    "    ax.legend(loc=\"upper right\",fontsize=12)\n",
    "\n",
    "\n"
   ]
  },
  {
   "cell_type": "markdown",
   "metadata": {},
   "source": [
    "## Molar extinction coeficient \n",
    "The molar extinction coeficient ($\\epsilon_{\\rm abs}$) of the theoretical pigment is retrieved from the input folder. $\\epsilon_{\\rm abs}(\\lambda)$ is in units of M$^{-1}$ cm$^{-1}$. \n",
    " "
   ]
  },
  {
   "cell_type": "code",
   "execution_count": 5,
   "metadata": {
    "scrolled": true
   },
   "outputs": [
    {
     "ename": "OSError",
     "evalue": "../input/theoric_pigments/Chla.txt not found.",
     "output_type": "error",
     "traceback": [
      "\u001b[1;31m---------------------------------------------------------------------------\u001b[0m",
      "\u001b[1;31mOSError\u001b[0m                                   Traceback (most recent call last)",
      "\u001b[1;32m~\\AppData\\Local\\Temp/ipykernel_4092/4077798492.py\u001b[0m in \u001b[0;36m<module>\u001b[1;34m\u001b[0m\n\u001b[0;32m     11\u001b[0m \u001b[1;32mfor\u001b[0m \u001b[0mpigm_name\u001b[0m \u001b[1;32min\u001b[0m \u001b[0mtheoretical_pigm\u001b[0m\u001b[1;33m:\u001b[0m\u001b[1;33m\u001b[0m\u001b[1;33m\u001b[0m\u001b[0m\n\u001b[0;32m     12\u001b[0m     \u001b[1;31m#2D array with pigment extinction coefficient spectrum [nm; M-1 cm-1]\u001b[0m\u001b[1;33m\u001b[0m\u001b[1;33m\u001b[0m\u001b[1;33m\u001b[0m\u001b[0m\n\u001b[1;32m---> 13\u001b[1;33m     \u001b[0mpigm_extinct_array\u001b[0m \u001b[1;33m=\u001b[0m \u001b[0mnp\u001b[0m\u001b[1;33m.\u001b[0m\u001b[0mloadtxt\u001b[0m\u001b[1;33m(\u001b[0m\u001b[0mth_pigm_folder\u001b[0m\u001b[1;33m+\u001b[0m\u001b[0mpigm_name\u001b[0m\u001b[1;33m+\u001b[0m\u001b[1;34m'.txt'\u001b[0m\u001b[1;33m,\u001b[0m\u001b[0musecols\u001b[0m\u001b[1;33m=\u001b[0m\u001b[1;33m(\u001b[0m\u001b[1;36m0\u001b[0m\u001b[1;33m,\u001b[0m\u001b[1;36m1\u001b[0m\u001b[1;33m)\u001b[0m\u001b[1;33m)\u001b[0m \u001b[1;31m# [nm, M-1 cm-1]\u001b[0m\u001b[1;33m\u001b[0m\u001b[1;33m\u001b[0m\u001b[0m\n\u001b[0m\u001b[0;32m     14\u001b[0m     \u001b[0mpigm_extinct_array\u001b[0m \u001b[1;33m=\u001b[0m \u001b[0mnp\u001b[0m\u001b[1;33m.\u001b[0m\u001b[0mtranspose\u001b[0m\u001b[1;33m(\u001b[0m\u001b[0mpigm_extinct_array\u001b[0m\u001b[1;33m)\u001b[0m\u001b[1;33m\u001b[0m\u001b[1;33m\u001b[0m\u001b[0m\n\u001b[0;32m     15\u001b[0m \u001b[1;33m\u001b[0m\u001b[0m\n",
      "\u001b[1;32m~\\.conda\\envs\\Exophot\\lib\\site-packages\\numpy\\lib\\npyio.py\u001b[0m in \u001b[0;36mloadtxt\u001b[1;34m(fname, dtype, comments, delimiter, converters, skiprows, usecols, unpack, ndmin, encoding, max_rows, like)\u001b[0m\n\u001b[0;32m   1065\u001b[0m             \u001b[0mfname\u001b[0m \u001b[1;33m=\u001b[0m \u001b[0mos_fspath\u001b[0m\u001b[1;33m(\u001b[0m\u001b[0mfname\u001b[0m\u001b[1;33m)\u001b[0m\u001b[1;33m\u001b[0m\u001b[1;33m\u001b[0m\u001b[0m\n\u001b[0;32m   1066\u001b[0m         \u001b[1;32mif\u001b[0m \u001b[0m_is_string_like\u001b[0m\u001b[1;33m(\u001b[0m\u001b[0mfname\u001b[0m\u001b[1;33m)\u001b[0m\u001b[1;33m:\u001b[0m\u001b[1;33m\u001b[0m\u001b[1;33m\u001b[0m\u001b[0m\n\u001b[1;32m-> 1067\u001b[1;33m             \u001b[0mfh\u001b[0m \u001b[1;33m=\u001b[0m \u001b[0mnp\u001b[0m\u001b[1;33m.\u001b[0m\u001b[0mlib\u001b[0m\u001b[1;33m.\u001b[0m\u001b[0m_datasource\u001b[0m\u001b[1;33m.\u001b[0m\u001b[0mopen\u001b[0m\u001b[1;33m(\u001b[0m\u001b[0mfname\u001b[0m\u001b[1;33m,\u001b[0m \u001b[1;34m'rt'\u001b[0m\u001b[1;33m,\u001b[0m \u001b[0mencoding\u001b[0m\u001b[1;33m=\u001b[0m\u001b[0mencoding\u001b[0m\u001b[1;33m)\u001b[0m\u001b[1;33m\u001b[0m\u001b[1;33m\u001b[0m\u001b[0m\n\u001b[0m\u001b[0;32m   1068\u001b[0m             \u001b[0mfencoding\u001b[0m \u001b[1;33m=\u001b[0m \u001b[0mgetattr\u001b[0m\u001b[1;33m(\u001b[0m\u001b[0mfh\u001b[0m\u001b[1;33m,\u001b[0m \u001b[1;34m'encoding'\u001b[0m\u001b[1;33m,\u001b[0m \u001b[1;34m'latin1'\u001b[0m\u001b[1;33m)\u001b[0m\u001b[1;33m\u001b[0m\u001b[1;33m\u001b[0m\u001b[0m\n\u001b[0;32m   1069\u001b[0m             \u001b[0mfh\u001b[0m \u001b[1;33m=\u001b[0m \u001b[0miter\u001b[0m\u001b[1;33m(\u001b[0m\u001b[0mfh\u001b[0m\u001b[1;33m)\u001b[0m\u001b[1;33m\u001b[0m\u001b[1;33m\u001b[0m\u001b[0m\n",
      "\u001b[1;32m~\\.conda\\envs\\Exophot\\lib\\site-packages\\numpy\\lib\\_datasource.py\u001b[0m in \u001b[0;36mopen\u001b[1;34m(path, mode, destpath, encoding, newline)\u001b[0m\n\u001b[0;32m    191\u001b[0m \u001b[1;33m\u001b[0m\u001b[0m\n\u001b[0;32m    192\u001b[0m     \u001b[0mds\u001b[0m \u001b[1;33m=\u001b[0m \u001b[0mDataSource\u001b[0m\u001b[1;33m(\u001b[0m\u001b[0mdestpath\u001b[0m\u001b[1;33m)\u001b[0m\u001b[1;33m\u001b[0m\u001b[1;33m\u001b[0m\u001b[0m\n\u001b[1;32m--> 193\u001b[1;33m     \u001b[1;32mreturn\u001b[0m \u001b[0mds\u001b[0m\u001b[1;33m.\u001b[0m\u001b[0mopen\u001b[0m\u001b[1;33m(\u001b[0m\u001b[0mpath\u001b[0m\u001b[1;33m,\u001b[0m \u001b[0mmode\u001b[0m\u001b[1;33m,\u001b[0m \u001b[0mencoding\u001b[0m\u001b[1;33m=\u001b[0m\u001b[0mencoding\u001b[0m\u001b[1;33m,\u001b[0m \u001b[0mnewline\u001b[0m\u001b[1;33m=\u001b[0m\u001b[0mnewline\u001b[0m\u001b[1;33m)\u001b[0m\u001b[1;33m\u001b[0m\u001b[1;33m\u001b[0m\u001b[0m\n\u001b[0m\u001b[0;32m    194\u001b[0m \u001b[1;33m\u001b[0m\u001b[0m\n\u001b[0;32m    195\u001b[0m \u001b[1;33m\u001b[0m\u001b[0m\n",
      "\u001b[1;32m~\\.conda\\envs\\Exophot\\lib\\site-packages\\numpy\\lib\\_datasource.py\u001b[0m in \u001b[0;36mopen\u001b[1;34m(self, path, mode, encoding, newline)\u001b[0m\n\u001b[0;32m    531\u001b[0m                                       encoding=encoding, newline=newline)\n\u001b[0;32m    532\u001b[0m         \u001b[1;32melse\u001b[0m\u001b[1;33m:\u001b[0m\u001b[1;33m\u001b[0m\u001b[1;33m\u001b[0m\u001b[0m\n\u001b[1;32m--> 533\u001b[1;33m             \u001b[1;32mraise\u001b[0m \u001b[0mIOError\u001b[0m\u001b[1;33m(\u001b[0m\u001b[1;34m\"%s not found.\"\u001b[0m \u001b[1;33m%\u001b[0m \u001b[0mpath\u001b[0m\u001b[1;33m)\u001b[0m\u001b[1;33m\u001b[0m\u001b[1;33m\u001b[0m\u001b[0m\n\u001b[0m\u001b[0;32m    534\u001b[0m \u001b[1;33m\u001b[0m\u001b[0m\n\u001b[0;32m    535\u001b[0m \u001b[1;33m\u001b[0m\u001b[0m\n",
      "\u001b[1;31mOSError\u001b[0m: ../input/theoric_pigments/Chla.txt not found."
     ]
    },
    {
     "data": {
      "image/png": "[encoded data removed]",
      "text/plain": [
       "<Figure size 576x360 with 1 Axes>"
      ]
     },
     "metadata": {
      "needs_background": "light"
     },
     "output_type": "display_data"
    }
   ],
   "source": [
    "\n",
    "\n",
    "fig, ax = plt.subplots(1,1,figsize=(8,5))\n",
    "\n",
    "#Set the input folder of the pigments molar extinction files\n",
    "th_pigm_folder = \"../input/theoric_pigments/\" \n",
    "\n",
    "# pigment label for the plot\n",
    "pigm_label = ['Chl $\\it{a}$', 'BChl $\\it{a}$', 'Phot0-Zn', 'Phot0-Mg']\n",
    "\n",
    "iterator = 0\n",
    "#Iterate in pigment's names\n",
    "for pigm_name in theoretical_pigm:\n",
    "    #2D array with pigment extinction coefficient spectrum [nm; M-1 cm-1]\n",
    "    pigm_extinct_array = np.loadtxt(th_pigm_folder+pigm_name+'.txt',usecols=(0,1)) # [nm, M-1 cm-1]\n",
    "    pigm_extinct_array = np.transpose(pigm_extinct_array)\n",
    "    \n",
    "    # from nm to Angstrom\n",
    "    #pigm_extinct_array[0] = 10*pigm_extinct_array[0]\n",
    "\n",
    "    # Molar Extinction (cm-1/M) given in 1E5 \n",
    "    pigm_extinct_array[1] = 10E5*pigm_extinct_array[1]\n",
    "\n",
    "    plot_pigment_extinction(pigm_extinct_array[0], pigm_extinct_array[1], pigm_label[iterator], CB_color_cycle[iterator], ax)\n",
    "    iterator = iterator +1\n",
    "\n",
    "plt.tight_layout()\n",
    "plt.savefig('../output/figures/pigment_extinction_plot.pdf', dpi = 150)\n",
    "plt.show()  "
   ]
  },
  {
   "cell_type": "markdown",
   "metadata": {},
   "source": [
    "## Compare  molar extinction coeficient of Phot0-Zn with its dimero\n",
    "The molar extinction coeficient ($\\epsilon_{\\rm abs}$) of the theoretical pigment is retrieved from the input folder. $\\epsilon_{\\rm abs}(\\lambda)$ is in units of M$^{-1}$ cm$^{-1}$. "
   ]
  },
  {
   "cell_type": "code",
   "execution_count": null,
   "metadata": {},
   "outputs": [],
   "source": [
    "phot0Zn_list = ['Phot0-Zn', 'Phot0-dim-Zn']\n",
    "\n",
    "\n",
    "fig, ax = plt.subplots(1,1,figsize=(8,5))\n",
    "\n",
    "#Set the input folder of the pigments molar extinction files\n",
    "th_pigm_folder = \"../input/theoric_pigments/\" \n",
    "\n",
    "# pigment label for the plot\n",
    "pigm_label = ['Phot0-Zn', 'Phot0-dim-Zn']\n",
    "\n",
    "iterator = 0\n",
    "#Iterate in pigment's names\n",
    "for pigm_name in phot0Zn_list:\n",
    "    #2D array with pigment extinction coefficient spectrum [nm; M-1 cm-1]\n",
    "    pigm_extinct_array = np.loadtxt(th_pigm_folder+pigm_name+'.txt',usecols=(0,1)) # [nm, M-1 cm-1]\n",
    "    pigm_extinct_array = np.transpose(pigm_extinct_array)\n",
    "    \n",
    "    # from nm to Angstrom\n",
    "    #pigm_extinct_array[0] = 10*pigm_extinct_array[0]\n",
    "\n",
    "    # Molar Extinction (cm-1/M) given in 1E5 \n",
    "    #pigm_extinct_array[1] = 10E5*pigm_extinct_array[1]\n",
    "\n",
    "    plot_pigment_extinction(pigm_extinct_array[0], pigm_extinct_array[1], pigm_label[iterator], CB_color_cycle[2*iterator+2], ax)\n",
    "    iterator = iterator +1\n",
    "\n",
    "plt.tight_layout()\n",
    "plt.savefig('../output/figures/phot0-dimer_plot.pdf', dpi = 150)\n",
    "plt.show()  "
   ]
  },
  {
   "cell_type": "code",
   "execution_count": null,
   "metadata": {},
   "outputs": [],
   "source": []
  }
 ],
 "metadata": {
  "kernelspec": {
   "display_name": "Python 3 (ipykernel)",
   "language": "python",
   "name": "python3"
  },
  "language_info": {
   "codemirror_mode": {
    "name": "ipython",
    "version": 3
   },
   "file_extension": ".py",
   "mimetype": "text/x-python",
   "name": "python",
   "nbconvert_exporter": "python",
   "pygments_lexer": "ipython3",
   "version": "3.8.12"
  }
 },
 "nbformat": 4,
 "nbformat_minor": 4
}
