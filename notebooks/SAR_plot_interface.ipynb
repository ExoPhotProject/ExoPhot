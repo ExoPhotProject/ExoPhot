{
 "cells": [
  {
   "cell_type": "markdown",
   "id": "3dc8a6fa",
   "metadata": {},
   "source": [
    "\n",
    "<img src=\"../images/ExoPhotlogo.png\"   \n",
    "     width=150px\n",
    "     alt=\"ExoPhot icon\"\n",
    "     style=\"float: left; margin-right: 10px;\" /> \n",
    "\n",
    "# ExoPhot Spectral Absorption Rate interface\n",
    "This notebook is intended for the selection of stars, exoplanetary atmospheres and photosystems and plotting their spectral absorption rate. It also tabulates the total absorption rate for the selected systems.\n",
    "\n"
   ]
  },
  {
   "cell_type": "code",
   "execution_count": 1,
   "id": "d40360b4",
   "metadata": {},
   "outputs": [],
   "source": [
    "#%matplotlib notebook\n",
    "\n",
    "# Import required packages\n",
    "from __future__ import print_function\n",
    "from ipywidgets import interact, interactive, fixed, interact_manual\n",
    "import ipywidgets as widgets\n",
    "import matplotlib.pyplot as plt\n",
    "import matplotlib.ticker as tic\n",
    "import numpy as np\n",
    "import pandas as pd\n",
    "\n",
    "\n",
    "import sys\n",
    "sys.path.append(\"..\")\n",
    "from codes import spectral_overlap_functions as sof # .py file with functions needed to quantify spectral overlap\n",
    "\n",
    "\n",
    "# Retrieve stored dataframe\n",
    "%store -r tar_table_df"
   ]
  },
  {
   "cell_type": "markdown",
   "id": "f97c1780",
   "metadata": {},
   "source": [
    "## Star selection\n",
    "Select the spectral type of the host star:"
   ]
  },
  {
   "cell_type": "code",
   "execution_count": 2,
   "id": "7fdda046",
   "metadata": {},
   "outputs": [
    {
     "data": {
      "application/vnd.jupyter.widget-view+json": {
       "model_id": "6e96e6987d0a4f638921c4c33369520a",
       "version_major": 2,
       "version_minor": 0
      },
      "text/plain": [
       "Dropdown(description='Stellar type', index=1, options=('a5v', 'g2v', 'm8v'), value='g2v')"
      ]
     },
     "metadata": {},
     "output_type": "display_data"
    }
   ],
   "source": [
    "stellar_type_list = ['a5v', 'g2v','m8v']\n",
    "\n",
    "selected_stellar_type = widgets.Dropdown(\n",
    "                options=stellar_type_list,\n",
    "                value='g2v',\n",
    "                description='Stellar type',\n",
    "                disabled=False)\n",
    "\n",
    "\n",
    "def stellar_type_handler(change):\n",
    "     change.new  \n",
    "    \n",
    "selected_stellar_type.observe(stellar_type_handler, names='value')\n",
    "\n",
    "display(selected_stellar_type)\n",
    "\n"
   ]
  },
  {
   "cell_type": "markdown",
   "id": "07828084",
   "metadata": {},
   "source": [
    "## Exoplanet selection\n",
    "\n",
    "Select the inner, middle or outer part of the exoplanet habitable zone and the type of atmosphere (os1: Earth-like; os2: highly oxidizing, os3; weakly oxidizing; os4: reducing):\n"
   ]
  },
  {
   "cell_type": "code",
   "execution_count": 3,
   "id": "0148bf32",
   "metadata": {},
   "outputs": [
    {
     "data": {
      "application/vnd.jupyter.widget-view+json": {
       "model_id": "fbee2132b81f4185ac57a3c4f8cf8bb3",
       "version_major": 2,
       "version_minor": 0
      },
      "text/plain": [
       "Dropdown(description='HZ', index=1, options=('hzi', 'hzm', 'hzo'), value='hzm')"
      ]
     },
     "metadata": {},
     "output_type": "display_data"
    },
    {
     "data": {
      "application/vnd.jupyter.widget-view+json": {
       "model_id": "24d616d15fcc419499f5c3522e66f560",
       "version_major": 2,
       "version_minor": 0
      },
      "text/plain": [
       "Dropdown(description='Atmosphere type', options=('os1', 'os2', 'os3', 'os4'), value='os1')"
      ]
     },
     "metadata": {},
     "output_type": "display_data"
    }
   ],
   "source": [
    "hz_list = ['hzi', 'hzm','hzo']\n",
    "atmosphere_list = ['os1','os2','os3','os4']\n",
    "\n",
    "selected_hz = widgets.Dropdown(\n",
    "                options=hz_list,\n",
    "                value='hzm',\n",
    "                description='HZ',\n",
    "                disabled=False)\n",
    "\n",
    "selected_atmosphere = widgets.Dropdown(\n",
    "                options=atmosphere_list,\n",
    "                value='os1',\n",
    "                description='Atmosphere type',\n",
    "                disabled=False)\n",
    "\n",
    "def hz_handler(change):\n",
    "    change.new  \n",
    "def atmosphere_handler(change):\n",
    "    change.new  \n",
    "    \n",
    "selected_hz.observe(hz_handler, names='value')\n",
    "selected_atmosphere.observe(atmosphere_handler, names='value')\n",
    "\n",
    "display(selected_hz)\n",
    "display(selected_atmosphere)\n",
    "\n"
   ]
  },
  {
   "cell_type": "markdown",
   "id": "22fa771d",
   "metadata": {},
   "source": [
    "## Pigment selection\n",
    "Select one of the available pigments:"
   ]
  },
  {
   "cell_type": "code",
   "execution_count": 4,
   "id": "e0b31f40",
   "metadata": {},
   "outputs": [
    {
     "data": {
      "application/vnd.jupyter.widget-view+json": {
       "model_id": "cb54037f33704d6d94cf5355ca72fb55",
       "version_major": 2,
       "version_minor": 0
      },
      "text/plain": [
       "Dropdown(description='Pigment', index=2, options=('BChlA', 'BChlB', 'ChlA', 'ChlB', 'phot0'), value='ChlA')"
      ]
     },
     "metadata": {},
     "output_type": "display_data"
    }
   ],
   "source": [
    "pigment_list = ['BChlA','BChlB','ChlA','ChlB','phot0']\n",
    "\n",
    "selected_pigment = widgets.Dropdown(\n",
    "                options=pigment_list,\n",
    "                value='ChlA',\n",
    "                description='Pigment',\n",
    "                disabled=False)\n",
    "\n",
    "def pigment_handler(change):\n",
    "    change.new  \n",
    "    \n",
    "selected_pigment.observe(pigment_handler, names='value')\n",
    "\n",
    "display(selected_pigment)\n",
    "\n"
   ]
  },
  {
   "cell_type": "markdown",
   "id": "d957bf3d",
   "metadata": {},
   "source": [
    "# Table of results"
   ]
  },
  {
   "cell_type": "code",
   "execution_count": 5,
   "id": "d669ca10",
   "metadata": {},
   "outputs": [
    {
     "data": {
      "text/html": [
       "<style type=\"text/css\">\n",
       "</style>\n",
       "<table id=\"T_d105a_\">\n",
       "  <thead>\n",
       "    <tr>\n",
       "      <th class=\"blank level0\" >&nbsp;</th>\n",
       "      <th class=\"col_heading level0 col0\" >Star</th>\n",
       "      <th class=\"col_heading level0 col1\" >HZ</th>\n",
       "      <th class=\"col_heading level0 col2\" >Atmosphere</th>\n",
       "      <th class=\"col_heading level0 col3\" >Pigment</th>\n",
       "      <th class=\"col_heading level0 col4\" >gamma_t</th>\n",
       "      <th class=\"col_heading level0 col5\" >gamma_B</th>\n",
       "      <th class=\"col_heading level0 col6\" >gamma_Q</th>\n",
       "      <th class=\"col_heading level0 col7\" >ppfd</th>\n",
       "      <th class=\"col_heading level0 col8\" >S</th>\n",
       "    </tr>\n",
       "  </thead>\n",
       "  <tbody>\n",
       "    <tr>\n",
       "      <th id=\"T_d105a_level0_row0\" class=\"row_heading level0 row0\" >43</th>\n",
       "      <td id=\"T_d105a_row0_col0\" class=\"data row0 col0\" >g2v</td>\n",
       "      <td id=\"T_d105a_row0_col1\" class=\"data row0 col1\" >hzm</td>\n",
       "      <td id=\"T_d105a_row0_col2\" class=\"data row0 col2\" >os1</td>\n",
       "      <td id=\"T_d105a_row0_col3\" class=\"data row0 col3\" >ChlA</td>\n",
       "      <td id=\"T_d105a_row0_col4\" class=\"data row0 col4\" >9.20</td>\n",
       "      <td id=\"T_d105a_row0_col5\" class=\"data row0 col5\" >4.65</td>\n",
       "      <td id=\"T_d105a_row0_col6\" class=\"data row0 col6\" >4.55</td>\n",
       "      <td id=\"T_d105a_row0_col7\" class=\"data row0 col7\" >2115.69</td>\n",
       "      <td id=\"T_d105a_row0_col8\" class=\"data row0 col8\" >1370.04</td>\n",
       "    </tr>\n",
       "  </tbody>\n",
       "</table>\n"
      ],
      "text/plain": [
       "<pandas.io.formats.style.Styler at 0x211a5098c70>"
      ]
     },
     "execution_count": 5,
     "metadata": {},
     "output_type": "execute_result"
    }
   ],
   "source": [
    "current_system = tar_table_df.loc[(tar_table_df[\"Star\"]==selected_stellar_type.value) & \n",
    "                      (tar_table_df[\"Atmosphere\"]==selected_atmosphere.value) & \n",
    "                      (tar_table_df[\"HZ\"]==selected_hz.value) & \n",
    "                      (tar_table_df[\"Pigment\"]==selected_pigment.value)]\n",
    "\n",
    "#Set precision of pandas to 2 \n",
    "pd.set_option('precision', 2)\n",
    "\n",
    "current_system[[\"Star\",\"HZ\",\"Atmosphere\",\"Pigment\",\"gamma_t\",\"gamma_B\",\"gamma_Q\",\"ppfd\",\"S\"]].style\n"
   ]
  },
  {
   "cell_type": "code",
   "execution_count": null,
   "id": "ebef9ac1",
   "metadata": {},
   "outputs": [],
   "source": [
    "#Reset precision for the rest of the processes\n",
    "pd.reset_option('precision')"
   ]
  },
  {
   "cell_type": "markdown",
   "id": "381a1f79",
   "metadata": {},
   "source": [
    "# Spectral Absorption Rate Calculation"
   ]
  },
  {
   "cell_type": "code",
   "execution_count": 7,
   "id": "e118422f",
   "metadata": {
    "scrolled": false
   },
   "outputs": [
    {
     "data": {
      "image/png": "[encoded data removed]",
      "text/plain": [
       "<Figure size 576x360 with 4 Axes>"
      ]
     },
     "metadata": {},
     "output_type": "display_data"
    }
   ],
   "source": [
    "# specify file names\n",
    "output_file='./output/'+'atm_'+selected_stellar_type.value+'_'+selected_hz.value+'_'+selected_atmosphere.value+'_'+selected_pigment.value+'.txt'\n",
    "\n",
    "# read files to retrieve spectra\n",
    "data = np.loadtxt(output_file,usecols=(0,1,2,3,4)) \n",
    "data = np.transpose(data)\n",
    "\n",
    "# reorder parameters for plotting purposeses\n",
    "y_sorted = [4,1,2,3]\n",
    "y_values = data[y_sorted]\n",
    "\n",
    "#Flux in Joules transformed to ergs \n",
    "# 1J = 10E7 ergs\n",
    "y_values[1]=y_values[1]*1e7\n",
    "\n",
    "\n",
    "#colors = ['black', 'red', 'blue', 'green']\n",
    "colors = ['black', '#ff7f00', '#4daf4a','#f781bf']\n",
    "labels = ['Spectral Absorption Rate ($\\AA^{-1}$ s$^{-1}$)', \n",
    "          'Stellar flux (erg cm$^{-2}$ s$^{-1}$ $\\AA^{-1}$)', \n",
    "          'Atmosphere transmittance', \n",
    "          'Pigment\\'s absorption cross section (cm$^{2}$)']\n",
    "\n",
    "# define other paramters (e.g. linestyle etc.) in lists\n",
    "\n",
    "fig, ax_orig = plt.subplots(figsize=(8, 5))\n",
    "for i, (arr, color, label) in enumerate(zip(y_values, colors, labels)):\n",
    "    if i == 0:\n",
    "        ax = ax_orig\n",
    "        ax.set_ylabel(label, color=color)\n",
    "        ax.plot(data[0],y_values[0], color=color, linestyle='-',linewidth=1, alpha=1)\n",
    "    else:\n",
    "        ax = ax_orig.twinx()\n",
    "        ax.spines['right'].set_position(('outward', 50 * (i - 1)))\n",
    "        ax.plot(data[0],arr, color=color, linestyle='-',linewidth=1, alpha=1)\n",
    "        ax.set_ylabel(label, color=color)\n",
    "        \n",
    "        yfmt = tic.ScalarFormatter(useMathText=True)\n",
    "        yfmt.set_powerlimits((-6, -5))\n",
    "        ax.yaxis.set_major_formatter(yfmt)\n",
    "        ax.ticklabel_format(style='sci', axis='y', scilimits=(0,0))\n",
    "        ax.get_yaxis().get_offset_text().set_visible(False)\n",
    "        ax_max = max(ax.get_yticks())\n",
    "        exponent_axis = np.floor(np.log10(ax_max)).astype(int)\n",
    "        if exponent_axis!=0:\n",
    "            ax.annotate(r'$\\times$10$^{%i}$'%(exponent_axis),\n",
    "             xy=((0.999+(0.15 * (i - 1))), .999), color=color, xycoords='axes fraction')\n",
    "\n",
    "        #ax.get_yaxis().get_offset_text().set_position(0.5, 0)\n",
    "    ax.set_xlabel('Wavelength ($\\AA$)')    \n",
    "\n",
    "    ax.tick_params(axis='y', colors=color)\n",
    "fig.tight_layout()\n",
    "plt.savefig('../output/visual_spectral_overlap_plot_PNAS_v4.pdf', dpi=150)\n",
    "plt.show()\n",
    "\n"
   ]
  },
  {
   "cell_type": "code",
   "execution_count": null,
   "id": "d04be6aa",
   "metadata": {},
   "outputs": [],
   "source": []
  },
  {
   "cell_type": "code",
   "execution_count": null,
   "id": "aa069d0c",
   "metadata": {},
   "outputs": [],
   "source": []
  },
  {
   "cell_type": "code",
   "execution_count": null,
   "id": "a00a6fde",
   "metadata": {},
   "outputs": [],
   "source": []
  }
 ],
 "metadata": {
  "kernelspec": {
   "display_name": "Python 3 (ipykernel)",
   "language": "python",
   "name": "python3"
  },
  "language_info": {
   "codemirror_mode": {
    "name": "ipython",
    "version": 3
   },
   "file_extension": ".py",
   "mimetype": "text/x-python",
   "name": "python",
   "nbconvert_exporter": "python",
   "pygments_lexer": "ipython3",
   "version": "3.8.12"
  }
 },
 "nbformat": 4,
 "nbformat_minor": 5
}
