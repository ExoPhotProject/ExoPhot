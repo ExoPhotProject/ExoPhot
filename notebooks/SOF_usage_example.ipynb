{
 "cells": [
  {
   "cell_type": "markdown",
   "metadata": {},
   "source": [
    "# Spectral and total absorption rate (ExoPhot Working Group 4)"
   ]
  },
  {
   "cell_type": "markdown",
   "metadata": {},
   "source": [
    "**1) Load libraries and functions to compute spectral absorption rate**"
   ]
  },
  {
   "cell_type": "markdown",
   "metadata": {},
   "source": [
    "Load libraries and functions"
   ]
  },
  {
   "cell_type": "code",
   "execution_count": 1,
   "metadata": {},
   "outputs": [],
   "source": [
    "%matplotlib inline\n",
    "import numpy as np\n",
    "import pandas as pd\n",
    "import matplotlib.pyplot as plt\n",
    "import itertools\n",
    "from os import walk\n",
    "from pathlib import Path\n",
    "\n",
    "\n",
    "\n",
    "import sys\n",
    "sys.path.append(\"..\")\n",
    "from codes import spectral_overlap_functions as sof # .py file with functions needed to quantify spectral overlap\n",
    "\n",
    "#import spectral_overlap_functions as sof # .py file with functions needed to quantify spectral overlap"
   ]
  },
  {
   "cell_type": "markdown",
   "metadata": {},
   "source": [
    "Define functions that will be handy"
   ]
  },
  {
   "cell_type": "code",
   "execution_count": 2,
   "metadata": {},
   "outputs": [],
   "source": [
    "def plot_spectra(wl, sigma_int, spec_abs_rate_int, abs_rate, ax):\n",
    "    \"\"\"Helper function to plot absorption cross section\n",
    "    and spectral absorption rate\"\"\"\n",
    "    \n",
    "    ax.plot(wl, sigma_int)\n",
    "    ax1=ax.twinx()\n",
    "    \n",
    "    ax1.plot(wl, spec_abs_rate_int, c = 'tab:orange')\n",
    "    ax.set_ylim(0,None)\n",
    "    ax.autoscale(enable=True, axis='x', tight=True)\n",
    "    ax1.set_ylim(0,None)\n",
    "    ax1.autoscale(enable=True, axis='x', tight=True)\n",
    "    ax.ticklabel_format(axis='y', style='sci', scilimits=(-1, 1), useOffset=False)\n",
    "    ax1.ticklabel_format(axis='y', style='sci', scilimits=(-1, 1), useOffset=False)\n",
    "    \n",
    "    ax.set_title(pigm[:-4] + ' in \\n' + atmos[:-4])\n",
    "    ax.set_ylabel('Absorption \\n Cross section (cm$^{2}$)',color = 'tab:blue')\n",
    "    ax1.set_ylabel('Spectral Absorption \\n Rate ($\\AA^{-1}$ s$^{-1}$)',color = 'tab:orange')\n",
    "    ax.set_xlabel('Wavelength ($\\AA$)')    \n",
    "    \n",
    "    abs_str = '{:.2f}'.format(abs_rate)\n",
    "    ax.text(0.01, 0.85, 'Abs. Rate ($\\gamma_t$):\\n ' + abs_str + ' s$^{-1}$', horizontalalignment='left', \n",
    "         verticalalignment='center',color= 'gray', transform=ax.transAxes)\n"
   ]
  },
  {
   "cell_type": "markdown",
   "metadata": {},
   "source": [
    "Retrieve star parameteres"
   ]
  },
  {
   "cell_type": "code",
   "execution_count": 7,
   "metadata": {},
   "outputs": [
    {
     "data": {
      "text/html": [
       "<div>\n",
       "<style scoped>\n",
       "    .dataframe tbody tr th:only-of-type {\n",
       "        vertical-align: middle;\n",
       "    }\n",
       "\n",
       "    .dataframe tbody tr th {\n",
       "        vertical-align: top;\n",
       "    }\n",
       "\n",
       "    .dataframe thead th {\n",
       "        text-align: right;\n",
       "    }\n",
       "</style>\n",
       "<table border=\"1\" class=\"dataframe\">\n",
       "  <thead>\n",
       "    <tr style=\"text-align: right;\">\n",
       "      <th></th>\n",
       "      <th>ST</th>\n",
       "      <th>Teff</th>\n",
       "      <th>Rs</th>\n",
       "      <th>Ls</th>\n",
       "      <th>hzi</th>\n",
       "      <th>hzm</th>\n",
       "      <th>hzo</th>\n",
       "      <th>S_hzi</th>\n",
       "      <th>S_hzm</th>\n",
       "      <th>S_hzo</th>\n",
       "    </tr>\n",
       "  </thead>\n",
       "  <tbody>\n",
       "    <tr>\n",
       "      <th>0</th>\n",
       "      <td>a5v</td>\n",
       "      <td>8250.0</td>\n",
       "      <td>1.700</td>\n",
       "      <td>12.083850</td>\n",
       "      <td>2.503394</td>\n",
       "      <td>3.464906</td>\n",
       "      <td>3.911554</td>\n",
       "      <td>2624.57</td>\n",
       "      <td>1370.042</td>\n",
       "      <td>1075.024</td>\n",
       "    </tr>\n",
       "    <tr>\n",
       "      <th>1</th>\n",
       "      <td>f5v</td>\n",
       "      <td>6500.0</td>\n",
       "      <td>1.300</td>\n",
       "      <td>2.722901</td>\n",
       "      <td>1.188345</td>\n",
       "      <td>1.644768</td>\n",
       "      <td>1.856789</td>\n",
       "      <td>2624.57</td>\n",
       "      <td>1370.042</td>\n",
       "      <td>1075.024</td>\n",
       "    </tr>\n",
       "    <tr>\n",
       "      <th>2</th>\n",
       "      <td>g2v</td>\n",
       "      <td>5750.0</td>\n",
       "      <td>1.000</td>\n",
       "      <td>0.986650</td>\n",
       "      <td>0.715333</td>\n",
       "      <td>0.990080</td>\n",
       "      <td>1.117707</td>\n",
       "      <td>2624.57</td>\n",
       "      <td>1370.042</td>\n",
       "      <td>1075.024</td>\n",
       "    </tr>\n",
       "    <tr>\n",
       "      <th>3</th>\n",
       "      <td>k5v</td>\n",
       "      <td>4250.0</td>\n",
       "      <td>0.720</td>\n",
       "      <td>0.152655</td>\n",
       "      <td>0.281373</td>\n",
       "      <td>0.389444</td>\n",
       "      <td>0.439646</td>\n",
       "      <td>2624.57</td>\n",
       "      <td>1370.042</td>\n",
       "      <td>1075.024</td>\n",
       "    </tr>\n",
       "    <tr>\n",
       "      <th>4</th>\n",
       "      <td>m8v</td>\n",
       "      <td>2500.0</td>\n",
       "      <td>0.121</td>\n",
       "      <td>0.000516</td>\n",
       "      <td>0.016362</td>\n",
       "      <td>0.022646</td>\n",
       "      <td>0.025566</td>\n",
       "      <td>2624.57</td>\n",
       "      <td>1370.042</td>\n",
       "      <td>1075.024</td>\n",
       "    </tr>\n",
       "  </tbody>\n",
       "</table>\n",
       "</div>"
      ],
      "text/plain": [
       "    ST    Teff     Rs         Ls       hzi       hzm       hzo    S_hzi  \\\n",
       "0  a5v  8250.0  1.700  12.083850  2.503394  3.464906  3.911554  2624.57   \n",
       "1  f5v  6500.0  1.300   2.722901  1.188345  1.644768  1.856789  2624.57   \n",
       "2  g2v  5750.0  1.000   0.986650  0.715333  0.990080  1.117707  2624.57   \n",
       "3  k5v  4250.0  0.720   0.152655  0.281373  0.389444  0.439646  2624.57   \n",
       "4  m8v  2500.0  0.121   0.000516  0.016362  0.022646  0.025566  2624.57   \n",
       "\n",
       "      S_hzm     S_hzo  \n",
       "0  1370.042  1075.024  \n",
       "1  1370.042  1075.024  \n",
       "2  1370.042  1075.024  \n",
       "3  1370.042  1075.024  \n",
       "4  1370.042  1075.024  "
      ]
     },
     "execution_count": 7,
     "metadata": {},
     "output_type": "execute_result"
    }
   ],
   "source": [
    "# load auxiliary file containing solar radii (Rs) and habitable zone (hz) boundaries (inner, mid, outer) for different solar spectral types\n",
    "df_exo = pd.read_csv('../input/exosys_params.csv', comment = '#')\n",
    "df_exo\n"
   ]
  },
  {
   "cell_type": "markdown",
   "metadata": {},
   "source": [
    "**2) Example of usage for a single combination of star, atmosphere and pigment**"
   ]
  },
  {
   "cell_type": "code",
   "execution_count": 14,
   "metadata": {},
   "outputs": [
    {
     "ename": "ValueError",
     "evalue": "too many values to unpack (expected 4)",
     "output_type": "error",
     "traceback": [
      "\u001b[1;31m---------------------------------------------------------------------------\u001b[0m",
      "\u001b[1;31mValueError\u001b[0m                                Traceback (most recent call last)",
      "\u001b[1;32m~\\AppData\\Local\\Temp/ipykernel_15012/2704435567.py\u001b[0m in \u001b[0;36m<module>\u001b[1;34m\u001b[0m\n\u001b[0;32m      5\u001b[0m \u001b[1;33m\u001b[0m\u001b[0m\n\u001b[0;32m      6\u001b[0m \u001b[1;33m\u001b[0m\u001b[0m\n\u001b[1;32m----> 7\u001b[1;33m \u001b[0mStype\u001b[0m\u001b[1;33m,\u001b[0m \u001b[0mRs\u001b[0m\u001b[1;33m,\u001b[0m \u001b[0msma\u001b[0m\u001b[1;33m,\u001b[0m \u001b[0mS\u001b[0m \u001b[1;33m=\u001b[0m \u001b[0msof\u001b[0m\u001b[1;33m.\u001b[0m\u001b[0mget_exo_params\u001b[0m\u001b[1;33m(\u001b[0m\u001b[0matmos\u001b[0m\u001b[1;33m,\u001b[0m \u001b[0mdf_exo\u001b[0m\u001b[1;33m)\u001b[0m\u001b[1;33m\u001b[0m\u001b[1;33m\u001b[0m\u001b[0m\n\u001b[0m\u001b[0;32m      8\u001b[0m \u001b[1;33m\u001b[0m\u001b[0m\n\u001b[0;32m      9\u001b[0m \u001b[1;33m\u001b[0m\u001b[0m\n",
      "\u001b[1;31mValueError\u001b[0m: too many values to unpack (expected 4)"
     ]
    }
   ],
   "source": [
    "# specify file names\n",
    "atmos = 'atm_g2v_hzm_os1.txt'\n",
    "star = 'SED_g2v.txt'\n",
    "pigm = 'ChlA.txt'\n",
    "\n",
    "\n",
    "Stype, Rs, sma, S = sof.get_exo_params(atmos, df_exo)\n",
    "\n",
    "\n",
    "# Exoplanet system parameters (Sun/Earth pair)\n",
    "Rs = 696340 # stellar radius in km\n",
    "sma = 1.496e8 # Exoplanet orbital semi-major axis in km\n",
    "\n",
    "\n",
    "# folders containing input files\n",
    "folders = ['../input/stellar/', '../input/atmosphere/', '../input/pigments/']\n",
    "\n",
    "# read files to retrieve spectra\n",
    "flux, trans, epsilon = sof.read_files(folders[0] + star, folders[1] + atmos, folders[2] + pigm)\n",
    "\n",
    "# compute spectral and total absorption rates and ppfd\n",
    "spectra, rates = sof.spectral_overlap(flux, trans, epsilon, Rs, sma)\n",
    "\n",
    "# save results\n",
    "sof.save_results(star, atmos, pigm, Rs, sma, S, spectra, rates)\n",
    "\n",
    "# plot spectra\n",
    "wl, F, T, sigma, rho_l = np.hsplit(spectra, spectra.shape[1])\n",
    "\n",
    "fig, ax = plt.subplots(1,1,figsize=(5,3.5))\n",
    "plot_spectra(wl, sigma, rho_l, rates[0], ax)\n",
    "\n",
    "plt.tight_layout()\n",
    "#plt.savefig('spectral_overlap_plot.jpg', dpi = 300)\n",
    "plt.show()   \n"
   ]
  },
  {
   "cell_type": "markdown",
   "metadata": {},
   "source": [
    "**3) Example of usage for several combinations of stars, atmospheres and pigments**"
   ]
  },
  {
   "cell_type": "markdown",
   "metadata": {},
   "source": [
    "Retrieve names of files with star flux, atmosphere transmitance and pigment absorption spectra"
   ]
  },
  {
   "cell_type": "code",
   "execution_count": 12,
   "metadata": {},
   "outputs": [
    {
     "data": {
      "text/plain": [
       "(['atm_a5v_hzm_os1.txt',\n",
       "  'atm_a5v_hzm_os2.txt',\n",
       "  'atm_a5v_hzm_os3.txt',\n",
       "  'atm_a5v_hzm_os4.txt',\n",
       "  'atm_g2v_hzi_os1.txt',\n",
       "  'atm_g2v_hzi_os2.txt',\n",
       "  'atm_g2v_hzi_os3.txt',\n",
       "  'atm_g2v_hzi_os4.txt',\n",
       "  'atm_g2v_hzm_os1.txt',\n",
       "  'atm_g2v_hzm_os2.txt',\n",
       "  'atm_g2v_hzm_os3.txt',\n",
       "  'atm_g2v_hzm_os4.txt',\n",
       "  'atm_g2v_hzo_os1.txt',\n",
       "  'atm_g2v_hzo_os2.txt',\n",
       "  'atm_g2v_hzo_os3.txt',\n",
       "  'atm_g2v_hzo_os4.txt',\n",
       "  'atm_m8v_hzm_os1.txt',\n",
       "  'atm_m8v_hzm_os2.txt',\n",
       "  'atm_m8v_hzm_os3.txt',\n",
       "  'atm_m8v_hzm_os4.txt'],\n",
       " ['SED_a5v.txt', 'SED_g2v.txt', 'SED_m8v.txt'],\n",
       " ['BChlA.txt', 'BChlB.txt', 'ChlA.txt', 'ChlB.txt', 'Phot0-Zn.txt'])"
      ]
     },
     "execution_count": 12,
     "metadata": {},
     "output_type": "execute_result"
    }
   ],
   "source": [
    "# --------------------------------------------------------------------\n",
    "# Lists of atmospheres, pigments and stellar models files\n",
    "# --------------------------------------------------------------------\n",
    "\n",
    "# folders containing input files\n",
    "folders = ['../input/stellar/', '../input/atmosphere/', '../input/pigments/']\n",
    "\n",
    "# Read and store the names of all files\n",
    "_, _, names_star = next(walk(folders[0]))\n",
    "_, _, names_atmos = next(walk(folders[1]))\n",
    "_, _, names_pigm = next(walk(folders[2]))\n",
    "\n",
    "# check file names\n",
    "names_atmos, names_star, names_pigm"
   ]
  },
  {
   "cell_type": "code",
   "execution_count": 13,
   "metadata": {},
   "outputs": [
    {
     "ename": "ValueError",
     "evalue": "too many values to unpack (expected 4)",
     "output_type": "error",
     "traceback": [
      "\u001b[1;31m---------------------------------------------------------------------------\u001b[0m",
      "\u001b[1;31mValueError\u001b[0m                                Traceback (most recent call last)",
      "\u001b[1;32m~\\AppData\\Local\\Temp/ipykernel_15012/3877126735.py\u001b[0m in \u001b[0;36m<module>\u001b[1;34m\u001b[0m\n\u001b[0;32m     11\u001b[0m \u001b[1;33m\u001b[0m\u001b[0m\n\u001b[0;32m     12\u001b[0m     \u001b[1;31m# the stellar model file and the exoplanet system parameters (Rs and sma) depend on the atmosphere file\u001b[0m\u001b[1;33m\u001b[0m\u001b[1;33m\u001b[0m\u001b[1;33m\u001b[0m\u001b[0m\n\u001b[1;32m---> 13\u001b[1;33m     \u001b[0mStype\u001b[0m\u001b[1;33m,\u001b[0m \u001b[0mRs\u001b[0m\u001b[1;33m,\u001b[0m \u001b[0msma\u001b[0m\u001b[1;33m,\u001b[0m \u001b[0mS\u001b[0m \u001b[1;33m=\u001b[0m \u001b[0msof\u001b[0m\u001b[1;33m.\u001b[0m\u001b[0mget_exo_params\u001b[0m\u001b[1;33m(\u001b[0m\u001b[0matmos\u001b[0m\u001b[1;33m,\u001b[0m \u001b[0mdf_exo\u001b[0m\u001b[1;33m)\u001b[0m\u001b[1;33m\u001b[0m\u001b[1;33m\u001b[0m\u001b[0m\n\u001b[0m\u001b[0;32m     14\u001b[0m     \u001b[0mstar\u001b[0m \u001b[1;33m=\u001b[0m \u001b[1;34m'SED_'\u001b[0m \u001b[1;33m+\u001b[0m \u001b[0mStype\u001b[0m \u001b[1;33m+\u001b[0m \u001b[1;34m'.txt'\u001b[0m\u001b[1;33m\u001b[0m\u001b[1;33m\u001b[0m\u001b[0m\n\u001b[0;32m     15\u001b[0m \u001b[1;33m\u001b[0m\u001b[0m\n",
      "\u001b[1;31mValueError\u001b[0m: too many values to unpack (expected 4)"
     ]
    },
    {
     "data": {
      "image/png": "[encoded data removed]",
      "text/plain": [
       "<Figure size 864x504 with 100 Axes>"
      ]
     },
     "metadata": {
      "needs_background": "light"
     },
     "output_type": "display_data"
    }
   ],
   "source": [
    "# iterate through atmosphere and pigment file names:\n",
    "r1 = range(len(names_atmos))\n",
    "r2 = range(len(names_pigm))\n",
    "\n",
    "fig, ax = plt.subplots(len(names_atmos),len(names_pigm),figsize=(12,7))\n",
    "\n",
    "for ii, jj in itertools.product(r1,r2): # this is a nested loop\n",
    "    # select atmosphere and pigment file names\n",
    "    atmos = names_atmos[ii]\n",
    "    pigm =  names_pigm[jj]\n",
    "    \n",
    "    # the stellar model file and the exoplanet system parameters (Rs and sma) depend on the atmosphere file\n",
    "    Stype, Rs, sma, S = sof.get_exo_params(atmos, df_exo)\n",
    "    star = 'SED_' + Stype + '.txt' \n",
    "    \n",
    "    # read files to retrieve spectra\n",
    "    flux, trans, epsilon = sof.read_files(folders[0] + star, folders[1] + atmos, folders[2] + pigm)\n",
    "\n",
    "    # compute spectral and total absorption rates and ppfd\n",
    "    spectra, rates = sof.spectral_overlap(flux, trans, epsilon, Rs, sma)\n",
    "\n",
    "    # save results\n",
    "    sof.save_results(star, atmos, pigm, Rs, sma, S, spectra, rates)\n",
    "        \n",
    "    # plot spectra\n",
    "    wl, F, T, sigma, rho_l = np.hsplit(spectra, spectra.shape[1])\n",
    "    plot_spectra(wl, sigma, rho_l, rates[0], ax[ii,jj])\n",
    "\n",
    "plt.tight_layout()\n",
    "#plt.savefig('spectral_overlap_plot_multiple.jpg', dpi = 300)\n",
    "plt.show()  \n"
   ]
  },
  {
   "cell_type": "code",
   "execution_count": null,
   "metadata": {},
   "outputs": [],
   "source": []
  }
 ],
 "metadata": {
  "kernelspec": {
   "display_name": "Python 3 (ipykernel)",
   "language": "python",
   "name": "python3"
  },
  "language_info": {
   "codemirror_mode": {
    "name": "ipython",
    "version": 3
   },
   "file_extension": ".py",
   "mimetype": "text/x-python",
   "name": "python",
   "nbconvert_exporter": "python",
   "pygments_lexer": "ipython3",
   "version": "3.8.12"
  }
 },
 "nbformat": 4,
 "nbformat_minor": 4
}
