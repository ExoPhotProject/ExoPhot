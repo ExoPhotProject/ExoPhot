{
 "cells": [
  {
   "cell_type": "markdown",
   "metadata": {},
   "source": [
    "# Spectral and total absorption rate (ExoPhot Working Group 4)"
   ]
  },
  {
   "cell_type": "markdown",
   "metadata": {},
   "source": [
    "**1) Load libraries and functions to compute spectral absorption rate**"
   ]
  },
  {
   "cell_type": "markdown",
   "metadata": {},
   "source": [
    "Load libraries and functions"
   ]
  },
  {
   "cell_type": "code",
   "execution_count": 1,
   "metadata": {},
   "outputs": [
    {
     "ename": "ModuleNotFoundError",
     "evalue": "No module named 'spectral_overlap_functions'",
     "output_type": "error",
     "traceback": [
      "\u001b[1;31m---------------------------------------------------------------------------\u001b[0m",
      "\u001b[1;31mModuleNotFoundError\u001b[0m                       Traceback (most recent call last)",
      "\u001b[1;32m~\\AppData\\Local\\Temp/ipykernel_8468/4009005806.py\u001b[0m in \u001b[0;36m<module>\u001b[1;34m\u001b[0m\n\u001b[0;32m      6\u001b[0m \u001b[1;32mfrom\u001b[0m \u001b[0mos\u001b[0m \u001b[1;32mimport\u001b[0m \u001b[0mwalk\u001b[0m\u001b[1;33m\u001b[0m\u001b[1;33m\u001b[0m\u001b[0m\n\u001b[0;32m      7\u001b[0m \u001b[1;32mfrom\u001b[0m \u001b[0mpathlib\u001b[0m \u001b[1;32mimport\u001b[0m \u001b[0mPath\u001b[0m\u001b[1;33m\u001b[0m\u001b[1;33m\u001b[0m\u001b[0m\n\u001b[1;32m----> 8\u001b[1;33m \u001b[1;32mimport\u001b[0m \u001b[0mspectral_overlap_functions\u001b[0m \u001b[1;32mas\u001b[0m \u001b[0msof\u001b[0m \u001b[1;31m# .py file with functions needed to quantify spectral overlap\u001b[0m\u001b[1;33m\u001b[0m\u001b[1;33m\u001b[0m\u001b[0m\n\u001b[0m",
      "\u001b[1;31mModuleNotFoundError\u001b[0m: No module named 'spectral_overlap_functions'"
     ]
    }
   ],
   "source": [
    "%matplotlib inline\n",
    "import numpy as np\n",
    "import pandas as pd\n",
    "import matplotlib.pyplot as plt\n",
    "import itertools\n",
    "from os import walk\n",
    "from pathlib import Path\n",
    "import spectral_overlap_functions as sof # .py file with functions needed to quantify spectral overlap"
   ]
  },
  {
   "cell_type": "markdown",
   "metadata": {},
   "source": [
    "Define functions that will be handy"
   ]
  },
  {
   "cell_type": "code",
   "execution_count": null,
   "metadata": {},
   "outputs": [],
   "source": [
    "def plot_spectra(wl, sigma_int, spec_abs_rate_int, abs_rate, ax):\n",
    "    \"\"\"Helper function to plot absorption cross section\n",
    "    and spectral absorption rate\"\"\"\n",
    "    \n",
    "    ax.plot(wl, sigma_int)\n",
    "    ax1=ax.twinx()\n",
    "    \n",
    "    ax1.plot(wl, spec_abs_rate_int, c = 'tab:orange')\n",
    "    ax.set_ylim(0,None)\n",
    "    ax.autoscale(enable=True, axis='x', tight=True)\n",
    "    ax1.set_ylim(0,None)\n",
    "    ax1.autoscale(enable=True, axis='x', tight=True)\n",
    "    ax.ticklabel_format(axis='y', style='sci', scilimits=(-1, 1), useOffset=False)\n",
    "    ax1.ticklabel_format(axis='y', style='sci', scilimits=(-1, 1), useOffset=False)\n",
    "    \n",
    "    ax.set_title(pigm[:-4] + ' in \\n' + atmos[:-4])\n",
    "    ax.set_ylabel('Absorption \\n Cross section (cm$^{-2}$)',color = 'tab:blue')\n",
    "    ax1.set_ylabel('Spectral Absorption \\n Rate ($\\AA^{-1}$ s$^{-1}$)',color = 'tab:orange')\n",
    "    ax.set_xlabel('Wavelength ($\\AA$)')    \n",
    "    \n",
    "    abs_str = '{:.2f}'.format(abs_rate)\n",
    "    ax.text(0.01, 0.85, 'Abs. Rate ($\\gamma_t$):\\n ' + abs_str + ' s$^{-1}$', horizontalalignment='left', \n",
    "         verticalalignment='center',color= 'gray', transform=ax.transAxes)\n"
   ]
  },
  {
   "cell_type": "markdown",
   "metadata": {},
   "source": [
    "**2) Example of usage for a single combination of star, atmosphere and pigment**"
   ]
  },
  {
   "cell_type": "code",
   "execution_count": null,
   "metadata": {},
   "outputs": [],
   "source": [
    "# Exoplanet system parameters (Sun/Earth pair)\n",
    "Rs = 696340 # stellar radius in km\n",
    "sma = 1.496e8 # Exoplanet orbital semi-major axis in km\n",
    "\n",
    "# specify file names\n",
    "atmos = 'atm_g2v_hzm_os1.txt'\n",
    "star = 'SED_g2v.txt'\n",
    "pigm = 'ChlA.txt'\n",
    "\n",
    "# folders containing input files\n",
    "folders = ['input/stellar/', 'input/atmosphere/', 'input/pigments/']\n",
    "\n",
    "# read files to retrieve spectra\n",
    "flux, trans, epsilon = sof.read_files(folders[0] + star, folders[1] + atmos, folders[2] + pigm)\n",
    "\n",
    "# compute spectral and total absorption rates and ppfd\n",
    "spectra, rates = sof.spectral_overlap(flux, trans, epsilon, Rs, sma)\n",
    "\n",
    "# save results\n",
    "sof.save_results(star, atmos, pigm, Rs, sma, S, spectra, rates)\n",
    "\n",
    "# plot spectra\n",
    "wl, F, T, sigma, rho_l = np.hsplit(spectra, spectra.shape[1])\n",
    "\n",
    "fig, ax = plt.subplots(1,1,figsize=(5,3.5))\n",
    "plot_spectra(wl, sigma, rho_l, rates[0], ax)\n",
    "\n",
    "plt.tight_layout()\n",
    "#plt.savefig('spectral_overlap_plot.jpg', dpi = 300)\n",
    "plt.show()   \n"
   ]
  },
  {
   "cell_type": "markdown",
   "metadata": {},
   "source": [
    "**3) Example of usage for several combinations of stars, atmospheres and pigments**"
   ]
  },
  {
   "cell_type": "markdown",
   "metadata": {},
   "source": [
    "Retrieve names of files with star flux, atmosphere transmitance and pigment absorption spectra"
   ]
  },
  {
   "cell_type": "code",
   "execution_count": null,
   "metadata": {},
   "outputs": [],
   "source": [
    "# --------------------------------------------------------------------\n",
    "# Lists of atmospheres, pigments and stellar models files\n",
    "# --------------------------------------------------------------------\n",
    "\n",
    "# folders containing input files\n",
    "folders = ['input/stellar/', 'input/atmosphere/', 'input/pigments/']\n",
    "\n",
    "# Read and store the names of all files\n",
    "_, _, names_star = next(walk(folders[0]))\n",
    "_, _, names_atmos = next(walk(folders[1]))\n",
    "_, _, names_pigm = next(walk(folders[2]))\n",
    "\n",
    "# check file names\n",
    "names_atmos, names_star, names_pigm"
   ]
  },
  {
   "cell_type": "code",
   "execution_count": null,
   "metadata": {},
   "outputs": [],
   "source": [
    "# load auxiliary file containing solar radii (Rs) and habitable zone (hz) boundaries (inner, mid, outer) for different solar spectral types\n",
    "df_exo = pd.read_csv('input/exosys_params.csv', comment = '#')\n",
    "df_exo"
   ]
  },
  {
   "cell_type": "code",
   "execution_count": null,
   "metadata": {},
   "outputs": [],
   "source": [
    "# iterate through atmosphere and pigment file names:\n",
    "r1 = range(len(names_atmos))\n",
    "r2 = range(len(names_pigm))\n",
    "\n",
    "fig, ax = plt.subplots(len(names_atmos),len(names_pigm),figsize=(12,7))\n",
    "\n",
    "for ii, jj in itertools.product(r1,r2): # this is a nested loop\n",
    "    # select atmosphere and pigment file names\n",
    "    atmos = names_atmos[ii]\n",
    "    pigm =  names_pigm[jj]\n",
    "    \n",
    "    # the stellar model file and the exoplanet system parameters (Rs and sma) depend on the atmosphere file\n",
    "    Stype, Rs, sma, S = sof.get_exo_params(atmos, df_exo)\n",
    "    star = 'SED_' + Stype + '.txt' \n",
    "    \n",
    "    # read files to retrieve spectra\n",
    "    flux, trans, epsilon = sof.read_files(folders[0] + star, folders[1] + atmos, folders[2] + pigm)\n",
    "\n",
    "    # compute spectral and total absorption rates and ppfd\n",
    "    spectra, rates = sof.spectral_overlap(flux, trans, epsilon, Rs, sma)\n",
    "\n",
    "    # save results\n",
    "    sof.save_results(star, atmos, pigm, Rs, sma, S, spectra, rates)\n",
    "        \n",
    "    # plot spectra\n",
    "    wl, F, T, sigma, rho_l = np.hsplit(spectra, spectra.shape[1])\n",
    "    plot_spectra(wl, sigma, rho_l, rates[0], ax[ii,jj])\n",
    "\n",
    "plt.tight_layout()\n",
    "#plt.savefig('spectral_overlap_plot_multiple.jpg', dpi = 300)\n",
    "plt.show()  \n"
   ]
  }
 ],
 "metadata": {
  "kernelspec": {
   "display_name": "Python 3 (ipykernel)",
   "language": "python",
   "name": "python3"
  },
  "language_info": {
   "codemirror_mode": {
    "name": "ipython",
    "version": 3
   },
   "file_extension": ".py",
   "mimetype": "text/x-python",
   "name": "python",
   "nbconvert_exporter": "python",
   "pygments_lexer": "ipython3",
   "version": "3.8.12"
  }
 },
 "nbformat": 4,
 "nbformat_minor": 4
}
