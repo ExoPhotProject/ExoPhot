{
 "cells": [
  {
   "cell_type": "markdown",
   "metadata": {},
   "source": [
    "# Spectral and total absorption rate (ExoPhot Working Group 4)"
   ]
  },
  {
   "cell_type": "markdown",
   "metadata": {},
   "source": [
    "**1) Load libraries, functions and names of file containing needed spectra**"
   ]
  },
  {
   "cell_type": "markdown",
   "metadata": {},
   "source": [
    "Load libraries and functions"
   ]
  },
  {
   "cell_type": "code",
   "execution_count": 1,
   "metadata": {},
   "outputs": [],
   "source": [
    "import numpy as np\n",
    "import matplotlib.pyplot as plt\n",
    "import itertools\n",
    "import spectral_overlap_functions as sof # .py file with functions needed to quantify spectral overlap"
   ]
  },
  {
   "cell_type": "markdown",
   "metadata": {},
   "source": [
    "Define functions that will be handy"
   ]
  },
  {
   "cell_type": "code",
   "execution_count": 2,
   "metadata": {},
   "outputs": [],
   "source": [
    "def read_files(star, atmos, pigm):\n",
    "    \"\"\"Helper function to load spectra from\n",
    "    specified files\"\"\"\n",
    "    \n",
    "    flux = np.loadtxt(folder_star + star,usecols=(0,1)) # [Angstrom, erg/cm2/s/A]\n",
    "    trans = np.loadtxt(folder_atmos + atmos,usecols=(0,1)) # [mum, None]\n",
    "    epsilon =  np.loadtxt(folder_pigm + pigm,usecols=(0,1)) # [nm, M-1 cm-1]\n",
    "    \n",
    "    return flux, trans, epsilon\n",
    "\n",
    "def plot_spectra(sigma_int,spec_abs_rate_int,abs_rate,ax):\n",
    "    \"\"\"Helper function to plot absorption cross section\n",
    "    and spectral absorption rate\"\"\"\n",
    "    \n",
    "    ax.plot(sigma_int[:,0],sigma_int[:,1])\n",
    "    ax1=ax.twinx()\n",
    "    ax1.plot(spec_abs_rate_int[:,0],spec_abs_rate_int[:,1], c = 'tab:orange')\n",
    "    ax.set_title(pigm[:-4] + ' in \\n' + atmos[:-4])\n",
    "    ax.set_ylabel('Cross section (cm$^{-2}$)',color = 'tab:blue')\n",
    "    ax1.set_ylabel('Spectral Absorption \\n Rate ($\\AA^{-1}$ s$^{-1}$)',color = 'tab:orange')\n",
    "    ax.set_xlabel('Wavelength ($\\AA$)')\n",
    "    abs_str = '{:.2f}'.format(abs_rate)\n",
    "    ax.text(0.01, 0.85, 'Abs. Rate:\\n ' + abs_str + ' s$^{-1}$', horizontalalignment='left', \n",
    "         verticalalignment='center',color= 'gray', transform=ax.transAxes)"
   ]
  },
  {
   "cell_type": "markdown",
   "metadata": {},
   "source": [
    "Retrieve names of files with star flux, atmosphere transmitance and pigment absorption spectra"
   ]
  },
  {
   "cell_type": "code",
   "execution_count": 3,
   "metadata": {},
   "outputs": [],
   "source": [
    "# --------------------------------------------------------------------\n",
    "# Lists of atmospheres, pigments and stellar models files\n",
    "# --------------------------------------------------------------------\n",
    "nomlist_atmos = 'atmos_list.txt';\n",
    "nomlist_star = 'stellar_list.txt';\n",
    "nomlist_pigm = 'pigments_list.txt';\n",
    "\n",
    "# folder containing input files\n",
    "folder_atmos = 'input/atmos/'\n",
    "folder_star = 'input/stellar/'\n",
    "folder_pigm = 'input/pigments/'\n",
    "\n",
    "# Read and store the names of all files   \n",
    "fid = open(nomlist_atmos,\"r\")\n",
    "names_atmos = np.genfromtxt(fid,dtype='str').tolist()\n",
    "fid.close()\n",
    "\n",
    "fid = open(nomlist_star,\"r\")\n",
    "names_star = np.genfromtxt(fid,dtype='str').tolist()\n",
    "fid.close()\n",
    "\n",
    "fid = open(nomlist_pigm,\"r\")\n",
    "names_pigm = np.genfromtxt(fid,dtype='str').tolist()\n",
    "fid.close()"
   ]
  },
  {
   "cell_type": "code",
   "execution_count": 4,
   "metadata": {},
   "outputs": [
    {
     "name": "stdout",
     "output_type": "stream",
     "text": [
      "['g2v_psg_atmos1_trn.txt', 'g2v_psg_atmos2_trn.txt']\n",
      "['g2v.txt', 'g2v.txt']\n",
      "['Chl_a.txt', 'Chl_b.txt']\n"
     ]
    }
   ],
   "source": [
    "print(names_atmos)\n",
    "print(names_star)\n",
    "print(names_pigm)"
   ]
  },
  {
   "cell_type": "markdown",
   "metadata": {},
   "source": [
    "**2) Example of usage for a single combination of star, atmosphere and pigment**"
   ]
  },
  {
   "cell_type": "code",
   "execution_count": null,
   "metadata": {},
   "outputs": [],
   "source": [
    "# select file names\n",
    "atmos = names_atmos[0]\n",
    "star = atmos[0:3] + '.txt' # the stellar model file depends on the atmosphere file\n",
    "pigm =  names_pigm[0]\n",
    "\n",
    "# Exoplanet system parameters (Sun/Earth pair)\n",
    "Rs = 696340 # stellar radius in km\n",
    "sma = 1.496e+8 # Exoplanet semi-major axis in km\n",
    "\n",
    "# read files to retrieve spectra\n",
    "flux, trans, epsilon = read_files(star, atmos, pigm)\n",
    "\n",
    "# compute and save spectral and total absorption rates\n",
    "flux_int, trans_int, sigma_int, spec_abs_rate_int, abs_rate = sof.spectral_overlap(flux, trans, epsilon, Rs, sma)\n",
    "\n",
    "# save results\n",
    "sof.save_results(star, atmos, pigm, Rs, sma, spec_abs_rate_int, abs_rate)\n",
    "\n",
    "# plot spectra\n",
    "fig, ax = plt.subplots(1,1,figsize=(5,3.5))\n",
    "plot_spectra(sigma_int,spec_abs_rate_int,abs_rate,ax)\n",
    "\n",
    "plt.tight_layout()\n",
    "#plt.savefig('spectral_overlap_plot.jpg', dpi = 300)\n",
    "plt.show()\n",
    "   \n"
   ]
  },
  {
   "cell_type": "markdown",
   "metadata": {},
   "source": [
    "**3) Example of usage for several combinations of stars, atmosphere and pigments**"
   ]
  },
  {
   "cell_type": "code",
   "execution_count": null,
   "metadata": {},
   "outputs": [],
   "source": [
    "# iterate through atmosphere and pigment file names:\n",
    "r1 = range(len(names_atmos))\n",
    "r2 = range(len(names_pigm))\n",
    "\n",
    "fig, ax = plt.subplots(len(names_atmos),len(names_pigm),figsize=(10,7))\n",
    "\n",
    "for ii, jj in itertools.product(r1,r2): # this is a nested loop\n",
    "    # select file names\n",
    "    atmos = names_atmos[ii]\n",
    "    star = atmos[0:3] + '.txt' # the stellar model file depends on the atmosphere file\n",
    "    pigm =  names_pigm[jj]\n",
    "\n",
    "    # Exoplanet system parameters (Sun/Earth pair)\n",
    "    Rs = 696340 # stellar radius in km\n",
    "    sma = 1.496e+8 # Exoplanet semi-major axis in km\n",
    "    \n",
    "    # read files to retrieve spectra\n",
    "    flux, trans, epsilon = read_files(star, atmos, pigm)\n",
    "\n",
    "    # compute and save spectral and total absorption rate\n",
    "    flux_int, trans_int, sigma_int, spec_abs_rate_int, abs_rate = sof.spectral_overlap(flux, trans, epsilon, Rs, sma)\n",
    "    \n",
    "    # save results\n",
    "    sof.save_results(star, atmos, pigm, Rs, sma, spec_abs_rate_int, abs_rate)\n",
    "    \n",
    "    # plot spectra\n",
    "    plot_spectra(sigma_int,spec_abs_rate_int,abs_rate,ax[ii,jj])\n",
    "\n",
    "plt.tight_layout()\n",
    "#plt.savefig('spectral_overlap_plot_multiple.jpg', dpi = 300)\n",
    "plt.show()  \n"
   ]
  }
 ],
 "metadata": {
  "kernelspec": {
   "display_name": "Python 3",
   "language": "python",
   "name": "python3"
  },
  "language_info": {
   "codemirror_mode": {
    "name": "ipython",
    "version": 3
   },
   "file_extension": ".py",
   "mimetype": "text/x-python",
   "name": "python",
   "nbconvert_exporter": "python",
   "pygments_lexer": "ipython3",
   "version": "3.7.4"
  }
 },
 "nbformat": 4,
 "nbformat_minor": 2
}
